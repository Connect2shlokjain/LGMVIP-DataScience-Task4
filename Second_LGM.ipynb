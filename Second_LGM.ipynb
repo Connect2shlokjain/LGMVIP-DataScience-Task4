{
 "cells": [
  {
   "cell_type": "markdown",
   "id": "a68441c1",
   "metadata": {},
   "source": [
    "# Image to Python Project : Computer Vision(using OpenCV)\n",
    "## By Shlok Jain\n",
    "connect me at https://www.linkedin.com/in/shlok-jain-5bb8021b7/"
   ]
  },
  {
   "cell_type": "code",
   "execution_count": 1,
   "id": "da06567e",
   "metadata": {},
   "outputs": [],
   "source": [
    "import cv2"
   ]
  },
  {
   "cell_type": "markdown",
   "id": "71fe76fb",
   "metadata": {},
   "source": [
    "in this project we only required OpenCV and matplotlib for better visualizations to our image and filter(but I just kept basic in this)"
   ]
  },
  {
   "cell_type": "markdown",
   "id": "1e4b20f3",
   "metadata": {},
   "source": [
    "I have inserted from last project for Image genration which was as follows:\n",
    "\n",
    "############----------------############\n",
    "\n",
    "import cv2 as cv\n",
    "\n",
    "import numpy as np\n",
    "\n",
    "import matplotlib.pyplot as plt\n",
    "\n",
    "############----------------############\n",
    "\n",
    "cam = cv.VideoCapture(0)\n",
    "\n",
    "while True:\n",
    "    _, img = cam.read()\n",
    "    \n",
    "    img = cv.flip(img, 1)\n",
    "    \n",
    "    cv.imshow(\"Frame\",img)\n",
    "    \n",
    "    key = cv.waitKey(20)\n",
    "    \n",
    "    if (key == 13):\n",
    "    \n",
    "        cv.imwrite('Selfie.png',img)\n",
    "        cam.release()\n",
    "        break\n",
    "        \n",
    "############----------------############"
   ]
  },
  {
   "cell_type": "markdown",
   "id": "17046d7f",
   "metadata": {},
   "source": [
    "## Code Logic:\n",
    "\n",
    "1. We need to read image in RBG format\n",
    "2. then convert it to greyscale\n",
    "3. then invert/inversion\n",
    "4. then blurr it further\n",
    "5. Divide theimage and clean it out."
   ]
  },
  {
   "cell_type": "code",
   "execution_count": 3,
   "id": "87449f3b",
   "metadata": {},
   "outputs": [],
   "source": [
    "image = cv2.imread(\"Selfie.png\")\n",
    "grey_filter =cv2.cvtColor(image, cv2.COLOR_BGR2GRAY)"
   ]
  },
  {
   "cell_type": "code",
   "execution_count": 4,
   "id": "6ba63410",
   "metadata": {},
   "outputs": [],
   "source": [
    "invert = cv2.bitwise_not(grey_filter)"
   ]
  },
  {
   "cell_type": "code",
   "execution_count": 5,
   "id": "011af3a2",
   "metadata": {},
   "outputs": [],
   "source": [
    "blur = cv2.GaussianBlur(invert, (21,21),0)"
   ]
  },
  {
   "cell_type": "code",
   "execution_count": 6,
   "id": "ce15a8f8",
   "metadata": {},
   "outputs": [],
   "source": [
    "invertedblur = cv2.bitwise_not(blur)"
   ]
  },
  {
   "cell_type": "code",
   "execution_count": 7,
   "id": "3047813c",
   "metadata": {},
   "outputs": [],
   "source": [
    "sketch_filter = cv2.divide(grey_filter, invertedblur, scale = 256.0)"
   ]
  },
  {
   "cell_type": "code",
   "execution_count": 8,
   "id": "65a01f93",
   "metadata": {},
   "outputs": [
    {
     "data": {
      "text/plain": [
       "True"
      ]
     },
     "execution_count": 8,
     "metadata": {},
     "output_type": "execute_result"
    }
   ],
   "source": [
    "cv2.imwrite(\"output.png\",sketch_filter)"
   ]
  }
 ],
 "metadata": {
  "kernelspec": {
   "display_name": "Python 3 (ipykernel)",
   "language": "python",
   "name": "python3"
  },
  "language_info": {
   "codemirror_mode": {
    "name": "ipython",
    "version": 3
   },
   "file_extension": ".py",
   "mimetype": "text/x-python",
   "name": "python",
   "nbconvert_exporter": "python",
   "pygments_lexer": "ipython3",
   "version": "3.9.13"
  }
 },
 "nbformat": 4,
 "nbformat_minor": 5
}
